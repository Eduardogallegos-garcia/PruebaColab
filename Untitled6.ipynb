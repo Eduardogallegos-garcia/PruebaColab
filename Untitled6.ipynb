{
  "nbformat": 4,
  "nbformat_minor": 0,
  "metadata": {
    "colab": {
      "provenance": []
    },
    "kernelspec": {
      "name": "python3",
      "display_name": "Python 3"
    },
    "language_info": {
      "name": "python"
    }
  },
  "cells": [
    {
      "cell_type": "code",
      "execution_count": null,
      "metadata": {
        "id": "rBKo8UwGSkg7"
      },
      "outputs": [],
      "source": []
    },
    {
      "cell_type": "markdown",
      "source": [
        "#Este es el titulo principal\n"
      ],
      "metadata": {
        "id": "NFmxrBd1SljZ"
      }
    }
  ]
}